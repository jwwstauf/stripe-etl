{
 "cells": [
  {
   "cell_type": "code",
   "execution_count": null,
   "id": "7b98b402",
   "metadata": {
    "scrolled": true
   },
   "outputs": [],
   "source": [
    "import stripe\n",
    "import pandas as pd\n",
    "import numpy as np\n",
    "import psycopg2\n",
    "from time import sleep\n",
    "from config import api_key\n",
    "from config import host, database, user, password\n",
    "from queries import *\n",
    "import pandas.io.sql as sqlio\n"
   ]
  },
  {
   "cell_type": "code",
   "execution_count": null,
   "id": "09b84939",
   "metadata": {},
   "outputs": [],
   "source": [
    "def get_df():\n",
    "    df = pd.DataFrame()\n",
    "    stripe.api_key = api_key\n",
    "                                                        \n",
    "    #first query to get response id\n",
    "    first_response = stripe.Subscription.list(status='all')\n",
    "    #creating dataframe with responses\n",
    "    df = df.append(pd.json_normalize(first_response['data']))\n",
    "    #defining next page for loops\n",
    "    start_after = first_response['data'][-1]['id']\n",
    "    print('Getting Results')\n",
    "\n",
    "    while True:    \n",
    "        try:\n",
    "            #appending to the dataframe\n",
    "            response = stripe.Subscription.list(starting_after=start_after, status='all')\n",
    "            subscription_df = pd.json_normalize(response['data'])\n",
    "            df = df.append(subscription_df, ignore_index=True)\n",
    "            #giving the key for the next iteration\n",
    "            start_after = response['data'][-1]['id']\n",
    "            #ask george about rate limit issues\n",
    "            sleep(.1)\n",
    "        except:\n",
    "            print('Stripe Request went wrong')\n",
    "        \n",
    "        \n",
    "        if response[\"has_more\"] == False:\n",
    "            break\n",
    "    return df\n"
   ]
  },
  {
   "cell_type": "code",
   "execution_count": null,
   "id": "772a65c9",
   "metadata": {},
   "outputs": [],
   "source": [
    "df = get_df()\n",
    "df"
   ]
  },
  {
   "cell_type": "code",
   "execution_count": null,
   "id": "50a8315f",
   "metadata": {},
   "outputs": [],
   "source": [
    "def cleaning_df(df):\n",
    "    df = df[['id', 'billing_cycle_anchor', 'cancel_at', 'cancel_at_period_end', 'canceled_at', 'created', 'current_period_end', 'current_period_start', 'customer', 'ended_at', 'quantity', 'start_date', 'status']]\n",
    "    df['billing_cycle_anchor'] = pd.to_datetime(df['billing_cycle_anchor'], unit='s')\n",
    "    df['canceled_at'] = pd.to_datetime(df['canceled_at'], unit='s')\n",
    "    df['cancel_at'] = pd.to_datetime(df['cancel_at'], unit='s')\n",
    "    df['created'] = pd.to_datetime(df['created'], unit='s')\n",
    "    df['current_period_end'] = pd.to_datetime(df['current_period_end'], unit='s')\n",
    "    df['current_period_start'] = pd.to_datetime(df['current_period_start'], unit='s')\n",
    "    df['ended_at'] = pd.to_datetime(df['ended_at'], unit='s')\n",
    "    df['start_date'] = pd.to_datetime(df['start_date'], unit='s')\n",
    "    df = df.replace({np.NaN: None})\n",
    "    return df\n"
   ]
  },
  {
   "cell_type": "code",
   "execution_count": null,
   "id": "79fe66cf",
   "metadata": {},
   "outputs": [],
   "source": [
    "df = cleaning_df(df)\n",
    "df"
   ]
  },
  {
   "cell_type": "code",
   "execution_count": null,
   "id": "991b8179",
   "metadata": {},
   "outputs": [],
   "source": [
    "def connect(host, database, user, password):\n",
    "    \"\"\" Connect to the PostgreSQL database server \"\"\"\n",
    "    conn = None\n",
    "    try:\n",
    "        # connect to the PostgreSQL server\n",
    "        print('Connecting to the PostgreSQL database...')\n",
    "        conn = psycopg2.connect(host=host, database=database, user=user, password=password)\n",
    "        conn.autocommit = True\n",
    "    except (Exception, psycopg2.DatabaseError) as error:\n",
    "        print(error)\n",
    "        sys.exit(1) \n",
    "    return conn\n",
    "conn = connect(host, database, user, password)"
   ]
  },
  {
   "cell_type": "code",
   "execution_count": null,
   "id": "68407cf2",
   "metadata": {},
   "outputs": [],
   "source": [
    "def setup(conn, table):\n",
    "    cur = conn.cursor()\n",
    "    cur.execute(table)\n",
    "    "
   ]
  },
  {
   "cell_type": "code",
   "execution_count": null,
   "id": "0e574b47",
   "metadata": {},
   "outputs": [],
   "source": [
    "setup(conn, create_subscription_table)"
   ]
  },
  {
   "cell_type": "code",
   "execution_count": null,
   "id": "c02ed1a6",
   "metadata": {},
   "outputs": [],
   "source": [
    "df.columns"
   ]
  },
  {
   "cell_type": "code",
   "execution_count": null,
   "id": "9010ca97",
   "metadata": {},
   "outputs": [],
   "source": [
    "def insert_values(conn, df):\n",
    "    \n",
    "    cur = conn.cursor()\n",
    "    \n",
    "    for value in df.values:\n",
    "        subscription_id, billing_cycle_anchor, cancel_at, cancel_at_period_end, canceled_at, created, current_period_end, current_period_start, customer, ended_at, quantity, start_date, status = value\n",
    "        #insert subscriber record\n",
    "        subscriber_data = (subscription_id, billing_cycle_anchor, cancel_at, cancel_at_period_end, canceled_at, created, current_period_end, current_period_start, customer, ended_at,quantity, start_date, status)\n",
    "        cur.execute(insert_table, subscriber_data)\n",
    "    \n",
    "    conn.commit()\n"
   ]
  },
  {
   "cell_type": "code",
   "execution_count": null,
   "id": "13678fdd",
   "metadata": {},
   "outputs": [],
   "source": [
    "insert_values(conn, df)"
   ]
  },
  {
   "cell_type": "code",
   "execution_count": null,
   "id": "83f53744",
   "metadata": {},
   "outputs": [],
   "source": [
    "test_df_4_me = sqlio.read_sql_query(\"SELECT * FROM subscriptions\", conn)\n",
    "test_df_4_me"
   ]
  },
  {
   "cell_type": "code",
   "execution_count": null,
   "id": "4d2d467b",
   "metadata": {},
   "outputs": [],
   "source": [
    "conn.close()"
   ]
  },
  {
   "cell_type": "code",
   "execution_count": null,
   "id": "296d9e24",
   "metadata": {},
   "outputs": [],
   "source": []
  }
 ],
 "metadata": {
  "kernelspec": {
   "display_name": "Python 3 (ipykernel)",
   "language": "python",
   "name": "python3"
  },
  "language_info": {
   "codemirror_mode": {
    "name": "ipython",
    "version": 3
   },
   "file_extension": ".py",
   "mimetype": "text/x-python",
   "name": "python",
   "nbconvert_exporter": "python",
   "pygments_lexer": "ipython3",
   "version": "3.9.7"
  }
 },
 "nbformat": 4,
 "nbformat_minor": 5
}
