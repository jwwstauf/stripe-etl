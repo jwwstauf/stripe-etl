{
 "cells": [
  {
   "cell_type": "code",
   "execution_count": 17,
   "id": "7b98b402",
   "metadata": {
    "scrolled": true
   },
   "outputs": [
    {
     "ename": "ImportError",
     "evalue": "cannot import name 'insert_table' from 'queries' (C:\\Users\\John Stauffer\\Documents\\stripe-etl\\queries.py)",
     "output_type": "error",
     "traceback": [
      "\u001b[1;31m---------------------------------------------------------------------------\u001b[0m",
      "\u001b[1;31mImportError\u001b[0m                               Traceback (most recent call last)",
      "\u001b[1;32mC:\\Users\\JOHNST~1\\AppData\\Local\\Temp/ipykernel_28928/4079695542.py\u001b[0m in \u001b[0;36m<module>\u001b[1;34m\u001b[0m\n\u001b[0;32m      5\u001b[0m \u001b[1;32mfrom\u001b[0m \u001b[0mconfig\u001b[0m \u001b[1;32mimport\u001b[0m \u001b[0mapi_key\u001b[0m\u001b[1;33m\u001b[0m\u001b[1;33m\u001b[0m\u001b[0m\n\u001b[0;32m      6\u001b[0m \u001b[1;32mfrom\u001b[0m \u001b[0mconfig\u001b[0m \u001b[1;32mimport\u001b[0m \u001b[0mhost\u001b[0m\u001b[1;33m,\u001b[0m \u001b[0mdatabase\u001b[0m\u001b[1;33m,\u001b[0m \u001b[0muser\u001b[0m\u001b[1;33m,\u001b[0m \u001b[0mpassword\u001b[0m\u001b[1;33m\u001b[0m\u001b[1;33m\u001b[0m\u001b[0m\n\u001b[1;32m----> 7\u001b[1;33m \u001b[1;32mfrom\u001b[0m \u001b[0mqueries\u001b[0m \u001b[1;32mimport\u001b[0m \u001b[0minsert_table\u001b[0m\u001b[1;33m\u001b[0m\u001b[1;33m\u001b[0m\u001b[0m\n\u001b[0m\u001b[0;32m      8\u001b[0m \u001b[1;32mimport\u001b[0m \u001b[0mpsycopg2\u001b[0m\u001b[1;33m\u001b[0m\u001b[1;33m\u001b[0m\u001b[0m\n",
      "\u001b[1;31mImportError\u001b[0m: cannot import name 'insert_table' from 'queries' (C:\\Users\\John Stauffer\\Documents\\stripe-etl\\queries.py)"
     ]
    }
   ],
   "source": [
    "import stripe\n",
    "import pandas as pd\n",
    "import numpy as np\n",
    "from time import sleep\n",
    "from config import api_key\n",
    "from config import host, database, user, password\n",
    "from queries import insert_table\n",
    "import psycopg2\n"
   ]
  },
  {
   "cell_type": "code",
   "execution_count": 2,
   "id": "09b84939",
   "metadata": {},
   "outputs": [],
   "source": [
    "def get_df():\n",
    "    sub_df = pd.DataFrame()\n",
    "    stripe.api_key = api_key\n",
    "                                                        \n",
    "    #first query to get response id\n",
    "    first_response = stripe.Subscription.list(status='all')\n",
    "    #creating dataframe with responses\n",
    "    sub_df = sub_df.append(pd.json_normalize(first_response['data']))\n",
    "    #defining next page for loops\n",
    "    start_after = first_response['data'][-1]['id']\n",
    "    print('Getting Results')\n",
    "\n",
    "    while True:    \n",
    "        try:\n",
    "            #appending to the dataframe\n",
    "            response = stripe.Subscription.list(starting_after=start_after, status='all')\n",
    "            subscription_df = pd.json_normalize(response['data'])\n",
    "            sub_df = sub_df.append(subscription_df, ignore_index=True)\n",
    "            #giving the key for the next iteration\n",
    "            start_after = response['data'][-1]['id']\n",
    "            #ask george about rate limit issues\n",
    "            sleep(1)\n",
    "        except:\n",
    "            print('Stripe Request went wrong')\n",
    "        \n",
    "        \n",
    "        if response[\"has_more\"] == False:\n",
    "            break\n",
    "    return sub_df\n"
   ]
  },
  {
   "cell_type": "code",
   "execution_count": 3,
   "id": "772a65c9",
   "metadata": {},
   "outputs": [
    {
     "name": "stdout",
     "output_type": "stream",
     "text": [
      "Getting Results\n"
     ]
    }
   ],
   "source": [
    "sub_df = get_df()"
   ]
  },
  {
   "cell_type": "code",
   "execution_count": 4,
   "id": "50a8315f",
   "metadata": {},
   "outputs": [],
   "source": [
    "def cleaning_df(df):\n",
    "    df = df[['id', 'billing_cycle_anchor', 'cancel_at', 'cancel_at_period_end', 'canceled_at', 'created', 'current_period_end', 'current_period_start', 'customer', 'ended_at', 'livemode', 'quantity', 'schedule', 'start_date', 'status']]\n",
    "    df['billing_cycle_anchor'] = pd.to_datetime(sub_df['billing_cycle_anchor'], unit='s')\n",
    "    df['canceled_at'] = pd.to_datetime(sub_df['canceled_at'], unit='s')\n",
    "    df['created'] = pd.to_datetime(sub_df['created'], unit='s')\n",
    "    df['current_period_end'] = pd.to_datetime(sub_df['current_period_end'], unit='s')\n",
    "    df['current_period_start'] = pd.to_datetime(sub_df['current_period_start'], unit='s')\n",
    "    df['ended_at'] = pd.to_datetime(sub_df['ended_at'], unit='s')\n",
    "    df['start_date'] = pd.to_datetime(sub_df['start_date'], unit='s')\n",
    "    return df\n"
   ]
  },
  {
   "cell_type": "code",
   "execution_count": 5,
   "id": "e583d098",
   "metadata": {},
   "outputs": [
    {
     "name": "stderr",
     "output_type": "stream",
     "text": [
      "C:\\Users\\JOHNST~1\\AppData\\Local\\Temp/ipykernel_28928/179360464.py:3: SettingWithCopyWarning: \n",
      "A value is trying to be set on a copy of a slice from a DataFrame.\n",
      "Try using .loc[row_indexer,col_indexer] = value instead\n",
      "\n",
      "See the caveats in the documentation: https://pandas.pydata.org/pandas-docs/stable/user_guide/indexing.html#returning-a-view-versus-a-copy\n",
      "  df['billing_cycle_anchor'] = pd.to_datetime(sub_df['billing_cycle_anchor'], unit='s')\n",
      "C:\\Users\\JOHNST~1\\AppData\\Local\\Temp/ipykernel_28928/179360464.py:4: SettingWithCopyWarning: \n",
      "A value is trying to be set on a copy of a slice from a DataFrame.\n",
      "Try using .loc[row_indexer,col_indexer] = value instead\n",
      "\n",
      "See the caveats in the documentation: https://pandas.pydata.org/pandas-docs/stable/user_guide/indexing.html#returning-a-view-versus-a-copy\n",
      "  df['canceled_at'] = pd.to_datetime(sub_df['canceled_at'], unit='s')\n",
      "C:\\Users\\JOHNST~1\\AppData\\Local\\Temp/ipykernel_28928/179360464.py:5: SettingWithCopyWarning: \n",
      "A value is trying to be set on a copy of a slice from a DataFrame.\n",
      "Try using .loc[row_indexer,col_indexer] = value instead\n",
      "\n",
      "See the caveats in the documentation: https://pandas.pydata.org/pandas-docs/stable/user_guide/indexing.html#returning-a-view-versus-a-copy\n",
      "  df['created'] = pd.to_datetime(sub_df['created'], unit='s')\n",
      "C:\\Users\\JOHNST~1\\AppData\\Local\\Temp/ipykernel_28928/179360464.py:6: SettingWithCopyWarning: \n",
      "A value is trying to be set on a copy of a slice from a DataFrame.\n",
      "Try using .loc[row_indexer,col_indexer] = value instead\n",
      "\n",
      "See the caveats in the documentation: https://pandas.pydata.org/pandas-docs/stable/user_guide/indexing.html#returning-a-view-versus-a-copy\n",
      "  df['current_period_end'] = pd.to_datetime(sub_df['current_period_end'], unit='s')\n",
      "C:\\Users\\JOHNST~1\\AppData\\Local\\Temp/ipykernel_28928/179360464.py:7: SettingWithCopyWarning: \n",
      "A value is trying to be set on a copy of a slice from a DataFrame.\n",
      "Try using .loc[row_indexer,col_indexer] = value instead\n",
      "\n",
      "See the caveats in the documentation: https://pandas.pydata.org/pandas-docs/stable/user_guide/indexing.html#returning-a-view-versus-a-copy\n",
      "  df['current_period_start'] = pd.to_datetime(sub_df['current_period_start'], unit='s')\n",
      "C:\\Users\\JOHNST~1\\AppData\\Local\\Temp/ipykernel_28928/179360464.py:8: SettingWithCopyWarning: \n",
      "A value is trying to be set on a copy of a slice from a DataFrame.\n",
      "Try using .loc[row_indexer,col_indexer] = value instead\n",
      "\n",
      "See the caveats in the documentation: https://pandas.pydata.org/pandas-docs/stable/user_guide/indexing.html#returning-a-view-versus-a-copy\n",
      "  df['ended_at'] = pd.to_datetime(sub_df['ended_at'], unit='s')\n",
      "C:\\Users\\JOHNST~1\\AppData\\Local\\Temp/ipykernel_28928/179360464.py:9: SettingWithCopyWarning: \n",
      "A value is trying to be set on a copy of a slice from a DataFrame.\n",
      "Try using .loc[row_indexer,col_indexer] = value instead\n",
      "\n",
      "See the caveats in the documentation: https://pandas.pydata.org/pandas-docs/stable/user_guide/indexing.html#returning-a-view-versus-a-copy\n",
      "  df['start_date'] = pd.to_datetime(sub_df['start_date'], unit='s')\n"
     ]
    }
   ],
   "source": [
    "sub_df = cleaning_df(sub_df)"
   ]
  },
  {
   "cell_type": "code",
   "execution_count": 6,
   "id": "991b8179",
   "metadata": {},
   "outputs": [
    {
     "name": "stdout",
     "output_type": "stream",
     "text": [
      "Connecting to the PostgreSQL database...\n",
      "Connection successful\n"
     ]
    }
   ],
   "source": [
    "def connect(host, database, user, password):\n",
    "    \"\"\" Connect to the PostgreSQL database server \"\"\"\n",
    "    conn = None\n",
    "    try:\n",
    "        # connect to the PostgreSQL server\n",
    "        print('Connecting to the PostgreSQL database...')\n",
    "        conn = psycopg2.connect(host=host, database=database, user=user, password=password)\n",
    "    except (Exception, psycopg2.DatabaseError) as error:\n",
    "        print(error)\n",
    "        sys.exit(1) \n",
    "    print(\"Connection successful\")\n",
    "    return conn\n",
    "conn = connect(host, database, user, password)"
   ]
  },
  {
   "cell_type": "code",
   "execution_count": 7,
   "id": "3aadc321",
   "metadata": {},
   "outputs": [],
   "source": [
    "def setup(conn, schema, table):\n",
    "    cur = conn.cursor()\n",
    "    cur.execute(schema)\n",
    "    cur.execute(table)\n",
    "    "
   ]
  },
  {
   "cell_type": "code",
   "execution_count": 8,
   "id": "2b55a4c4",
   "metadata": {},
   "outputs": [],
   "source": [
    "setup(conn, create_subscription_schema, create_subscription_table)"
   ]
  },
  {
   "cell_type": "code",
   "execution_count": 9,
   "id": "7351709d",
   "metadata": {},
   "outputs": [],
   "source": [
    "def insert_values(conn, df, table):\n",
    "    \n",
    "    # Create a list of tupples from the dataframe values\n",
    "    tuples = [tuple(x) for x in df.to_numpy()]\n",
    "    # Comma-separated dataframe columns\n",
    "    cols = ','.join(list(df.columns))\n",
    "    # SQL quert to execute\n",
    "    cur = conn.cursor()\n",
    "    values = [cur.mogrify(\"(%s,%s,%s,%s,%s,%s,%s,%s,%s,%s,%s,%s,%s,%s,%s,%s)\", tup).decode('utf8') for tup in tuples]\n",
    "    query  = (f'INSERT INTO {table(cols)} VALUES (%s,%s,%s,%s,%s,%s,%s,%s,%s,%s,%s,%s,%s,%s,%s,%s) ON CONFLICT({values[0]}) DO UPDATE SET')\n",
    "    \n",
    "    try:\n",
    "         cur.execute(query, tuples)\n",
    "         conn.commit()\n",
    "    except (Exception, psycopg2.DatabaseError) as error:\n",
    "        print(\"Error: %s\" % error)\n",
    "        conn.rollback()\n",
    "        cur.close()\n",
    "        return 1\n",
    "    print(\"execute_mogrify() done\")\n",
    "    cursor.close()\n",
    "   "
   ]
  },
  {
   "cell_type": "code",
   "execution_count": 10,
   "id": "1c28040e",
   "metadata": {},
   "outputs": [
    {
     "ename": "IndexError",
     "evalue": "tuple index out of range",
     "output_type": "error",
     "traceback": [
      "\u001b[1;31m---------------------------------------------------------------------------\u001b[0m",
      "\u001b[1;31mIndexError\u001b[0m                                Traceback (most recent call last)",
      "\u001b[1;32mC:\\Users\\JOHNST~1\\AppData\\Local\\Temp/ipykernel_28928/4126167968.py\u001b[0m in \u001b[0;36m<module>\u001b[1;34m\u001b[0m\n\u001b[1;32m----> 1\u001b[1;33m \u001b[0minsert_values\u001b[0m\u001b[1;33m(\u001b[0m\u001b[0mconn\u001b[0m\u001b[1;33m,\u001b[0m \u001b[0msub_df\u001b[0m\u001b[1;33m,\u001b[0m \u001b[1;34m'subscriptions'\u001b[0m\u001b[1;33m)\u001b[0m\u001b[1;33m\u001b[0m\u001b[1;33m\u001b[0m\u001b[0m\n\u001b[0m",
      "\u001b[1;32mC:\\Users\\JOHNST~1\\AppData\\Local\\Temp/ipykernel_28928/70520326.py\u001b[0m in \u001b[0;36minsert_values\u001b[1;34m(conn, df, table)\u001b[0m\n\u001b[0;32m      7\u001b[0m     \u001b[1;31m# SQL quert to execute\u001b[0m\u001b[1;33m\u001b[0m\u001b[1;33m\u001b[0m\u001b[0m\n\u001b[0;32m      8\u001b[0m     \u001b[0mcur\u001b[0m \u001b[1;33m=\u001b[0m \u001b[0mconn\u001b[0m\u001b[1;33m.\u001b[0m\u001b[0mcursor\u001b[0m\u001b[1;33m(\u001b[0m\u001b[1;33m)\u001b[0m\u001b[1;33m\u001b[0m\u001b[1;33m\u001b[0m\u001b[0m\n\u001b[1;32m----> 9\u001b[1;33m     \u001b[0mvalues\u001b[0m \u001b[1;33m=\u001b[0m \u001b[1;33m[\u001b[0m\u001b[0mcur\u001b[0m\u001b[1;33m.\u001b[0m\u001b[0mmogrify\u001b[0m\u001b[1;33m(\u001b[0m\u001b[1;34m\"(%s,%s,%s,%s,%s,%s,%s,%s,%s,%s,%s,%s,%s,%s,%s,%s)\"\u001b[0m\u001b[1;33m,\u001b[0m \u001b[0mtup\u001b[0m\u001b[1;33m)\u001b[0m\u001b[1;33m.\u001b[0m\u001b[0mdecode\u001b[0m\u001b[1;33m(\u001b[0m\u001b[1;34m'utf8'\u001b[0m\u001b[1;33m)\u001b[0m \u001b[1;32mfor\u001b[0m \u001b[0mtup\u001b[0m \u001b[1;32min\u001b[0m \u001b[0mtuples\u001b[0m\u001b[1;33m]\u001b[0m\u001b[1;33m\u001b[0m\u001b[1;33m\u001b[0m\u001b[0m\n\u001b[0m\u001b[0;32m     10\u001b[0m     \u001b[0mquery\u001b[0m  \u001b[1;33m=\u001b[0m \u001b[1;33m(\u001b[0m\u001b[1;34mf'INSERT INTO {table(cols)} VALUES (%s,%s,%s,%s,%s,%s,%s,%s,%s,%s,%s,%s,%s,%s,%s,%s) ON CONFLICT({values[0]}) DO UPDATE SET'\u001b[0m\u001b[1;33m)\u001b[0m\u001b[1;33m\u001b[0m\u001b[1;33m\u001b[0m\u001b[0m\n\u001b[0;32m     11\u001b[0m \u001b[1;33m\u001b[0m\u001b[0m\n",
      "\u001b[1;32mC:\\Users\\JOHNST~1\\AppData\\Local\\Temp/ipykernel_28928/70520326.py\u001b[0m in \u001b[0;36m<listcomp>\u001b[1;34m(.0)\u001b[0m\n\u001b[0;32m      7\u001b[0m     \u001b[1;31m# SQL quert to execute\u001b[0m\u001b[1;33m\u001b[0m\u001b[1;33m\u001b[0m\u001b[0m\n\u001b[0;32m      8\u001b[0m     \u001b[0mcur\u001b[0m \u001b[1;33m=\u001b[0m \u001b[0mconn\u001b[0m\u001b[1;33m.\u001b[0m\u001b[0mcursor\u001b[0m\u001b[1;33m(\u001b[0m\u001b[1;33m)\u001b[0m\u001b[1;33m\u001b[0m\u001b[1;33m\u001b[0m\u001b[0m\n\u001b[1;32m----> 9\u001b[1;33m     \u001b[0mvalues\u001b[0m \u001b[1;33m=\u001b[0m \u001b[1;33m[\u001b[0m\u001b[0mcur\u001b[0m\u001b[1;33m.\u001b[0m\u001b[0mmogrify\u001b[0m\u001b[1;33m(\u001b[0m\u001b[1;34m\"(%s,%s,%s,%s,%s,%s,%s,%s,%s,%s,%s,%s,%s,%s,%s,%s)\"\u001b[0m\u001b[1;33m,\u001b[0m \u001b[0mtup\u001b[0m\u001b[1;33m)\u001b[0m\u001b[1;33m.\u001b[0m\u001b[0mdecode\u001b[0m\u001b[1;33m(\u001b[0m\u001b[1;34m'utf8'\u001b[0m\u001b[1;33m)\u001b[0m \u001b[1;32mfor\u001b[0m \u001b[0mtup\u001b[0m \u001b[1;32min\u001b[0m \u001b[0mtuples\u001b[0m\u001b[1;33m]\u001b[0m\u001b[1;33m\u001b[0m\u001b[1;33m\u001b[0m\u001b[0m\n\u001b[0m\u001b[0;32m     10\u001b[0m     \u001b[0mquery\u001b[0m  \u001b[1;33m=\u001b[0m \u001b[1;33m(\u001b[0m\u001b[1;34mf'INSERT INTO {table(cols)} VALUES (%s,%s,%s,%s,%s,%s,%s,%s,%s,%s,%s,%s,%s,%s,%s,%s) ON CONFLICT({values[0]}) DO UPDATE SET'\u001b[0m\u001b[1;33m)\u001b[0m\u001b[1;33m\u001b[0m\u001b[1;33m\u001b[0m\u001b[0m\n\u001b[0;32m     11\u001b[0m \u001b[1;33m\u001b[0m\u001b[0m\n",
      "\u001b[1;31mIndexError\u001b[0m: tuple index out of range"
     ]
    }
   ],
   "source": [
    "insert_values(conn, sub_df, 'subscriptions')"
   ]
  },
  {
   "cell_type": "code",
   "execution_count": null,
   "id": "aa3df901",
   "metadata": {},
   "outputs": [],
   "source": [
    "sub_df.columns"
   ]
  },
  {
   "cell_type": "code",
   "execution_count": 13,
   "id": "427e8fdc",
   "metadata": {},
   "outputs": [],
   "source": [
    "def insert_values_v2(conn, df):\n",
    "    \n",
    "    cur = conn.cursor()\n",
    "    \n",
    "    for value in df.values:\n",
    "        subscription_id, billing_cycle_anchor, cancel_at, cancel_at_period_end, canceled_at, created, current_period_end, current_period_start, customer, ended_at, livemode, quantity, schedule, start_date, status_year = value\n",
    "\n",
    "        # insert subscriber record\n",
    "        subscriber_data = (subscription_id, billing_cycle_anchor, cancel_at, cancel_at_period_end, canceled_at, created, current_period_end, current_period_start, customer, ended_at, livemode, quantity, schedule, start_date, status_year)\n",
    "        cur.execute(insert_table, subscriber_data)\n",
    "\n"
   ]
  },
  {
   "cell_type": "code",
   "execution_count": 16,
   "id": "4f2047e2",
   "metadata": {},
   "outputs": [
    {
     "ename": "NameError",
     "evalue": "name 'insert_table' is not defined",
     "output_type": "error",
     "traceback": [
      "\u001b[1;31m---------------------------------------------------------------------------\u001b[0m",
      "\u001b[1;31mNameError\u001b[0m                                 Traceback (most recent call last)",
      "\u001b[1;32mC:\\Users\\JOHNST~1\\AppData\\Local\\Temp/ipykernel_28928/2742185971.py\u001b[0m in \u001b[0;36m<module>\u001b[1;34m\u001b[0m\n\u001b[1;32m----> 1\u001b[1;33m \u001b[0minsert_values_v2\u001b[0m\u001b[1;33m(\u001b[0m\u001b[0mconn\u001b[0m\u001b[1;33m,\u001b[0m \u001b[0msub_df\u001b[0m\u001b[1;33m)\u001b[0m\u001b[1;33m\u001b[0m\u001b[1;33m\u001b[0m\u001b[0m\n\u001b[0m",
      "\u001b[1;32mC:\\Users\\JOHNST~1\\AppData\\Local\\Temp/ipykernel_28928/1465198796.py\u001b[0m in \u001b[0;36minsert_values_v2\u001b[1;34m(conn, df)\u001b[0m\n\u001b[0;32m      8\u001b[0m         \u001b[1;31m# insert subscriber record\u001b[0m\u001b[1;33m\u001b[0m\u001b[1;33m\u001b[0m\u001b[0m\n\u001b[0;32m      9\u001b[0m         \u001b[0msubscriber_data\u001b[0m \u001b[1;33m=\u001b[0m \u001b[1;33m(\u001b[0m\u001b[0msubscription_id\u001b[0m\u001b[1;33m,\u001b[0m \u001b[0mbilling_cycle_anchor\u001b[0m\u001b[1;33m,\u001b[0m \u001b[0mcancel_at\u001b[0m\u001b[1;33m,\u001b[0m \u001b[0mcancel_at_period_end\u001b[0m\u001b[1;33m,\u001b[0m \u001b[0mcanceled_at\u001b[0m\u001b[1;33m,\u001b[0m \u001b[0mcreated\u001b[0m\u001b[1;33m,\u001b[0m \u001b[0mcurrent_period_end\u001b[0m\u001b[1;33m,\u001b[0m \u001b[0mcurrent_period_start\u001b[0m\u001b[1;33m,\u001b[0m \u001b[0mcustomer\u001b[0m\u001b[1;33m,\u001b[0m \u001b[0mended_at\u001b[0m\u001b[1;33m,\u001b[0m \u001b[0mlivemode\u001b[0m\u001b[1;33m,\u001b[0m \u001b[0mquantity\u001b[0m\u001b[1;33m,\u001b[0m \u001b[0mschedule\u001b[0m\u001b[1;33m,\u001b[0m \u001b[0mstart_date\u001b[0m\u001b[1;33m,\u001b[0m \u001b[0mstatus_year\u001b[0m\u001b[1;33m)\u001b[0m\u001b[1;33m\u001b[0m\u001b[1;33m\u001b[0m\u001b[0m\n\u001b[1;32m---> 10\u001b[1;33m         \u001b[0mcur\u001b[0m\u001b[1;33m.\u001b[0m\u001b[0mexecute\u001b[0m\u001b[1;33m(\u001b[0m\u001b[0minsert_table\u001b[0m\u001b[1;33m,\u001b[0m \u001b[0msubscriber_data\u001b[0m\u001b[1;33m)\u001b[0m\u001b[1;33m\u001b[0m\u001b[1;33m\u001b[0m\u001b[0m\n\u001b[0m\u001b[0;32m     11\u001b[0m \u001b[1;33m\u001b[0m\u001b[0m\n",
      "\u001b[1;31mNameError\u001b[0m: name 'insert_table' is not defined"
     ]
    }
   ],
   "source": [
    "insert_values_v2(conn, sub_df)"
   ]
  },
  {
   "cell_type": "code",
   "execution_count": null,
   "id": "fd2d6215",
   "metadata": {},
   "outputs": [],
   "source": []
  }
 ],
 "metadata": {
  "kernelspec": {
   "display_name": "Python 3 (ipykernel)",
   "language": "python",
   "name": "python3"
  },
  "language_info": {
   "codemirror_mode": {
    "name": "ipython",
    "version": 3
   },
   "file_extension": ".py",
   "mimetype": "text/x-python",
   "name": "python",
   "nbconvert_exporter": "python",
   "pygments_lexer": "ipython3",
   "version": "3.9.7"
  }
 },
 "nbformat": 4,
 "nbformat_minor": 5
}
